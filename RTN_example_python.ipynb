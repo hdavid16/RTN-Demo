{
 "cells": [
  {
   "cell_type": "markdown",
   "metadata": {},
   "source": [
    "### Resource-Task Network (RTN)"
   ]
  },
  {
   "cell_type": "markdown",
   "metadata": {},
   "source": [
    "#### Resource Balance:\n",
    "$$ X_{r,t} = X_{r,t-1} + \\sum_{i \\in I_r} \\sum_{\\theta = 0}^{\\tau_i} (\\mu_{i,r,\\theta} \\cdot N_{i,t-\\theta} + \\nu_{i,r,\\theta} \\cdot \\xi_{i,t-\\theta}) + \\Pi_{r,t} \\quad \\forall r \\in R, t \\in T$$\n",
    "#### Resource Limits:\n",
    "$$ X_{r}^{min} \\le X_{r,t} \\le X_{r}^{max} \\quad \\forall r \\in R, t \\in T$$\n",
    "#### Batch Limits:\n",
    "$$ V_{i}^{min} \\cdot N_{i,t} \\le \\xi_{i,t} \\le V_{i}^{max} \\cdot N_{i,t} \\quad \\forall i \\in I, t \\in T$$"
   ]
  },
  {
   "cell_type": "markdown",
   "metadata": {},
   "source": [
    "### System Being Modeled\n",
    "\n",
    "#### Reaction Pathways:\n",
    "1 reactor can perform three different stoichiomentric reactions (50/50 ratio for reactants):\n",
    "- Reaction 1: $$ A + B \\rightarrow D $$\n",
    "- Reaction 2: $$ A + C \\rightarrow E $$\n",
    "- Reaction 3: $$ B + C \\rightarrow F $$\n",
    "\n",
    "#### Equipment:\n",
    "- Storage Tanks: each material has a dedicated storage tank with a 100 L capacity.\n",
    "- Reactor: The reactor can be used to produce batches that are between 30 and 60 L.\n",
    "\n",
    "#### External material flow:\n",
    "- Raw material supply arrives at t = 6, 7, 8, 9, and 10 (10 units arrive in each time period)\n",
    "- External demand of products D, E, and F occurs at t = 6, 7, 8, 9, and 10 (10 units are consumed in each period0).\n",
    "\n",
    "#### Objective:\n",
    "Find the production schedule that will satisfy the external demands and require the least number of batches."
   ]
  },
  {
   "cell_type": "markdown",
   "metadata": {},
   "source": [
    "### Define the Network using NetworkX"
   ]
  },
  {
   "cell_type": "code",
   "execution_count": 1,
   "metadata": {},
   "outputs": [],
   "source": [
    "import networkx as nx\n",
    "import matplotlib.pyplot as plt"
   ]
  },
  {
   "cell_type": "code",
   "execution_count": 3,
   "metadata": {},
   "outputs": [
    {
     "data": {
      "image/png": "[encoded data removed]",
      "text/plain": [
       "<Figure size 432x288 with 1 Axes>"
      ]
     },
     "metadata": {},
     "output_type": "display_data"
    }
   ],
   "source": [
    "net = nx.Graph() #create network\n",
    "nodes = [\"A\",\"B\",\"C\",\"D\",\"E\",\"F\",\"V\",\"Rx1\",\"Rx2\",\"Rx3\"] #node labels\n",
    "R = [\"A\",\"B\",\"C\",\"D\",\"E\",\"F\",\"V\"] #resource nodes\n",
    "Rreact = [\"A\",\"B\",\"C\"] #reactants\n",
    "Rprod = [\"D\",\"E\",\"F\"] #products\n",
    "I = [\"Rx1\",\"Rx2\",\"Rx3\"] #task nodes\n",
    "\n",
    "#create nodes\n",
    "for n in nodes:\n",
    "    if n in I:\n",
    "        net.add_node(n, tau = 1, Vmin = 30, Vmax = 60) #tau = processing time, Vmin = minimum batch size for each task, Vmax = maximum batch size for each task\n",
    "    elif n in Rreact:\n",
    "        net.add_node(n, X0 = 100, Xmin = 0, Xmax = 100) #X0 = initial inventory (full reactant tanks), Xmin = minimum resource level (safety stock), Xmax = resource capacity\n",
    "    elif n in Rprod:\n",
    "        net.add_node(n, X0 = 0, Xmin = 0, Xmax = 100) #X0 = initial inventory (empty tanks), Xmin = minimum resource level (safety stock), Xmax = resource capacity\n",
    "    elif n == \"V\":\n",
    "        net.add_node(n, X0 = 1, Xmin = 0, Xmax = 1) #X0 = number of reactors available initially, Xmin = minimum number of available reactors (busy reactor = 0 available), Xmax = number of reactors\n",
    "\n",
    "#connect network\n",
    "net.add_edges_from([\n",
    "    (\"A\",\"Rx1\"),\n",
    "    (\"B\",\"Rx1\"),\n",
    "    (\"D\",\"Rx1\"),\n",
    "\n",
    "    (\"A\",\"Rx2\"),\n",
    "    (\"C\",\"Rx2\"),\n",
    "    (\"E\",\"Rx2\"),\n",
    "    \n",
    "    (\"B\",\"Rx3\"),\n",
    "    (\"C\",\"Rx3\"),\n",
    "    (\"F\",\"Rx3\"),\n",
    "\n",
    "    (\"V\",\"Rx1\"),\n",
    "    (\"V\",\"Rx2\"),\n",
    "    (\"V\",\"Rx3\"),\n",
    "])\n",
    "\n",
    "#add metadata to the edges\n",
    "#mu is the fixed consumption/production ratio\n",
    "#nu is the variable consumption/production ratio\n",
    "for e in net.edges:\n",
    "    if e[0] in Rreact:\n",
    "        net.edges[e][\"mu\"] = {theta: 0 for theta in range(net.nodes[e[1]][\"tau\"] + 1)} #reactant consumption depends on batch size, not on task execution\n",
    "        net.edges[e][\"nu\"] = {\n",
    "            theta: -0.5 #50% of the batch size comes from each reactant when task is triggered (theta = 0) (50:50 stoichiometry)\n",
    "                if theta == 0 else \n",
    "                    0 #no other consumption during the reaction duration\n",
    "            for theta in range(net.nodes[e[1]][\"tau\"] + 1)\n",
    "        }\n",
    "    elif e[0] in Rprod:\n",
    "        net.edges[e][\"mu\"] = {theta: 0 for theta in range(net.nodes[e[1]][\"tau\"] + 1)} #product production depends on batch size, not on task execution\n",
    "        net.edges[e][\"nu\"] = {\n",
    "            theta: 1 #the amount of product is the size of the batch (100% conversion) when theta = tau\n",
    "                if theta == net.nodes[e[1]][\"tau\"] else \n",
    "                    0 #no amount of product is produced before the reaction ends (no material is drained during task execution)\n",
    "            for theta in range(net.nodes[e[1]][\"tau\"] + 1)\n",
    "        }\n",
    "    elif e[0] == \"V\":\n",
    "        net.edges[e][\"mu\"] = {\n",
    "            theta: -1 #when a reaction is triggered (theta = 0), 1 reactor is consumed\n",
    "                if theta == 0 else \n",
    "                    1 #when the reaction completes (theta = tau), 1 reactor is regenerated\n",
    "                        if theta == net.nodes[e[1]][\"tau\"] else \n",
    "                            0 #no consumption/production of reactors in the intermediate timepoints of the reaction duration\n",
    "            for theta in range(net.nodes[e[1]][\"tau\"] + 1)\n",
    "        }\n",
    "        net.edges[e][\"nu\"] = {theta: 0 for theta in range(net.nodes[e[1]][\"tau\"] + 1)} #consumption/production of reactant not goverened by batch sizes\n",
    "\n",
    "nx.draw_networkx(net)"
   ]
  },
  {
   "cell_type": "markdown",
   "metadata": {},
   "source": [
    "### Define the MILP model for the RTN"
   ]
  },
  {
   "cell_type": "code",
   "execution_count": 75,
   "metadata": {},
   "outputs": [],
   "source": [
    "import pyomo.environ as pe\n",
    "from pyomo.opt import SolverFactory"
   ]
  },
  {
   "cell_type": "code",
   "execution_count": 139,
   "metadata": {},
   "outputs": [
    {
     "name": "stdout",
     "output_type": "stream",
     "text": [
      "\n",
      "Problem: \n",
      "- Name: unknown\n",
      "  Lower bound: 3.0\n",
      "  Upper bound: 3.0\n",
      "  Number of objectives: 1\n",
      "  Number of constraints: 271\n",
      "  Number of variables: 131\n",
      "  Number of nonzeros: 538\n",
      "  Sense: minimize\n",
      "Solver: \n",
      "- Status: ok\n",
      "  Termination condition: optimal\n",
      "  Statistics: \n",
      "    Branch and bound: \n",
      "      Number of bounded subproblems: 33\n",
      "      Number of created subproblems: 33\n",
      "  Error rc: 0\n",
      "  Time: 0.011601686477661133\n",
      "Solution: \n",
      "- number of solutions: 0\n",
      "  number of solutions displayed: 0\n",
      "\n"
     ]
    }
   ],
   "source": [
    "horizon = 10\n",
    "RTN = pe.ConcreteModel()\n",
    "\n",
    "#define sets\n",
    "RTN.I = pe.Set(initialize = I) #tasks\n",
    "RTN.R = pe.Set(initialize = R) #resources\n",
    "RTN.T = pe.Set(initialize = range(horizon+1)) #time points\n",
    "RTN.T1 = pe.Set(initialize = range(1,horizon+1)) #exclude time point 0, which is only for initialization\n",
    "RTN.Ir = pe.Set(RTN.R, initialize = {r: net.neighbors(r) for r in RTN.R}) #tasks associated with each resource r\n",
    "\n",
    "#define parameters\n",
    "max_tau = max([net.nodes[i][\"tau\"] for i in I]) #maximum tau in the system\n",
    "idx = [(i,r,theta) for i in I for r in R for theta in range(max_tau + 1) if r in net.neighbors(i) and theta <= net.nodes[i][\"tau\"]] #indices for mu and nu\n",
    "RTN.idx = pe.Set(dimen=3, initialize = idx) #indices for mu and nu\n",
    "RTN.mu = pe.Param(RTN.idx, initialize = {idx: net.edges[(idx[0],idx[1])][\"mu\"][idx[2]] for idx in RTN.idx}) #mu parameter\n",
    "RTN.nu = pe.Param(RTN.idx, initialize = {idx: net.edges[(idx[0],idx[1])][\"nu\"][idx[2]] for idx in RTN.idx}) #nu parameter\n",
    "RTN.tau = pe.Param(RTN.I, initialize = {i: net.nodes[i][\"tau\"] for i in RTN.I}) #tau (task durations)\n",
    "RTN.Vmax = pe.Param(RTN.I, initialize = {i: net.nodes[i][\"Vmax\"] for i in RTN.I}) #Vmax (max batch size)\n",
    "RTN.Vmin = pe.Param(RTN.I, initialize = {i: net.nodes[i][\"Vmin\"] for i in RTN.I}) #Vmin (min batch size)\n",
    "RTN.X0 = pe.Param(RTN.R, initialize = {r: net.nodes[r][\"X0\"] for r in RTN.R}) #X0 (initial resource inventory)\n",
    "RTN.Xmax = pe.Param(RTN.R, initialize = {r: net.nodes[r][\"Xmax\"] for r in RTN.R}) #Xmax (maximum resource inventory)\n",
    "RTN.Xmin = pe.Param(RTN.R, initialize = {r: net.nodes[r][\"Xmin\"] for r in RTN.R}) #Xmin (minimum resource inventory)\n",
    "RTN.Pi = pe.Param(RTN.R, RTN.T1, initialize = { #Pi (external entrance/exit)\n",
    "    (r,t): -10 #the demand (exit) for products is 50 units at t = horizon\n",
    "        if r in Rprod and t > horizon/2 else\n",
    "            10 if r in Rreact and t > horizon/2 else #receive (entrance) 10 units of raw materials for the second half of the timeline\n",
    "                0\n",
    "    for r in RTN.R for t in RTN.T1\n",
    "    }\n",
    ") \n",
    "\n",
    "#variables\n",
    "RTN.X = pe.Var(RTN.R, RTN.T, domain=pe.NonNegativeReals) #resource inventory level\n",
    "for r in RTN.R:\n",
    "    RTN.X[r,0].fix(RTN.X0[r]) #set initial inventory levels\n",
    "RTN.N = pe.Var(RTN.I, RTN.T1, domain=pe.Binary) #task triggering\n",
    "RTN.E = pe.Var(RTN.I, RTN.T1, domain=pe.NonNegativeReals) #task batch size\n",
    "\n",
    "#constraints\n",
    "RTN.Balance = pe.ConstraintList()\n",
    "RTN.ResourceLB = pe.ConstraintList()\n",
    "RTN.ResourceUB = pe.ConstraintList()\n",
    "RTN.BatchLB = pe.ConstraintList()\n",
    "RTN.BatchUB = pe.ConstraintList()\n",
    "\n",
    "for t in RTN.T1:\n",
    "    for r in RTN.R:\n",
    "        RTN.Balance.add(\n",
    "            RTN.X[r,t] == \n",
    "                RTN.X[r,t-1]\n",
    "                + sum(\n",
    "                    RTN.mu[i,r,theta] * RTN.N[i,t-theta] \n",
    "                    + RTN.nu[i,r,theta] * RTN.E[i,t-theta] \n",
    "                    for i in RTN.Ir[r] \n",
    "                    for theta in range(max_tau + 1) if theta <= RTN.tau[i] and t-theta >= 1\n",
    "                )\n",
    "                + RTN.Pi[r,t]\n",
    "        )\n",
    "\n",
    "        RTN.ResourceLB.add(\n",
    "            RTN.Xmin[r] <= RTN.X[r,t]\n",
    "        )\n",
    "\n",
    "        RTN.ResourceUB.add(\n",
    "            RTN.X[r,t] <= RTN.Xmax[r]\n",
    "        )\n",
    "\n",
    "    for i in RTN.I:\n",
    "        RTN.BatchLB.add(\n",
    "            RTN.Vmin[i] * RTN.N[i,t] <= RTN.E[i,t]\n",
    "        )\n",
    "\n",
    "        RTN.BatchUB.add(\n",
    "            RTN.E[i,t] <= RTN.Vmax[i] * RTN.N[i,t]\n",
    "        )\n",
    "\n",
    "#objective\n",
    "RTN.obj = pe.Objective(\n",
    "    expr = sum(RTN.N[i,t] for i in RTN.I for t in RTN.T1),\n",
    "    sense = pe.minimize\n",
    ")\n",
    "\n",
    "#solve\n",
    "res = SolverFactory('glpk').solve(RTN)\n",
    "print(res)"
   ]
  },
  {
   "cell_type": "markdown",
   "metadata": {},
   "source": [
    "### Plot the results"
   ]
  },
  {
   "cell_type": "code",
   "execution_count": 145,
   "metadata": {},
   "outputs": [],
   "source": [
    "import pandas as pd\n",
    "X = RTN.X.get_values() #get resource levels\n",
    "E = RTN.E.get_values() #get batch sizes\n",
    "resources = pd.DataFrame(columns = R, data = {r: [X[r,t] for t in RTN.T] for r in R})\n",
    "tanks = resources.iloc[:,0:5]\n",
    "reactor = resources.loc[:,\"V\"]\n",
    "batches = pd.DataFrame(columns = I, data = {i: [E[i,t] for t in RTN.T1] for i in I})"
   ]
  },
  {
   "cell_type": "code",
   "execution_count": 146,
   "metadata": {},
   "outputs": [
    {
     "data": {
      "text/plain": [
       "<AxesSubplot:title={'center':'material tanks'}, xlabel='time', ylabel='inventory level'>"
      ]
     },
     "execution_count": 146,
     "metadata": {},
     "output_type": "execute_result"
    },
    {
     "data": {
      "image/png": "[encoded data removed]",
      "text/plain": [
       "<Figure size 432x288 with 1 Axes>"
      ]
     },
     "metadata": {
      "needs_background": "light"
     },
     "output_type": "display_data"
    }
   ],
   "source": [
    "tanks.plot(title=\"material tanks\",xlabel=\"time\",ylabel=\"inventory level\",drawstyle=\"steps-post\")"
   ]
  },
  {
   "cell_type": "markdown",
   "metadata": {},
   "source": [
    "### Observations:\n",
    "The system builds inventory in the first three time periods so that it has enough to meet the demand in the last 4 periods."
   ]
  },
  {
   "cell_type": "code",
   "execution_count": 147,
   "metadata": {},
   "outputs": [
    {
     "data": {
      "text/plain": [
       "<AxesSubplot:title={'center':'reactor'}, xlabel='time', ylabel='availability'>"
      ]
     },
     "execution_count": 147,
     "metadata": {},
     "output_type": "execute_result"
    },
    {
     "data": {
      "image/png": "[encoded data removed]",
      "text/plain": [
       "<Figure size 432x288 with 1 Axes>"
      ]
     },
     "metadata": {
      "needs_background": "light"
     },
     "output_type": "display_data"
    }
   ],
   "source": [
    "reactor.plot(title=\"reactor\",xlabel=\"time\",ylabel=\"availability\",drawstyle=\"steps-post\")"
   ]
  },
  {
   "cell_type": "code",
   "execution_count": 151,
   "metadata": {},
   "outputs": [
    {
     "data": {
      "text/plain": [
       "<AxesSubplot:title={'center':'batches'}, xlabel='time', ylabel='size'>"
      ]
     },
     "execution_count": 151,
     "metadata": {},
     "output_type": "execute_result"
    },
    {
     "data": {
      "image/png": "[encoded data removed]",
      "text/plain": [
       "<Figure size 432x288 with 1 Axes>"
      ]
     },
     "metadata": {
      "needs_background": "light"
     },
     "output_type": "display_data"
    }
   ],
   "source": [
    "batches.plot(kind=\"bar\",title=\"batches\",xlabel=\"time\",ylabel=\"size\")"
   ]
  },
  {
   "cell_type": "markdown",
   "metadata": {},
   "source": [
    "### Observations:\n",
    "The reactor is used three times at t = 1, 2, 3. Since the objective penalizes for the number of times a reaction is triggered, the reactor is used only once for each material since its production capacity allows it."
   ]
  },
  {
   "cell_type": "code",
   "execution_count": null,
   "metadata": {},
   "outputs": [],
   "source": []
  }
 ],
 "metadata": {
  "interpreter": {
   "hash": "916dbcbb3f70747c44a77c7bcd40155683ae19c65e1c03b4aa3499c5328201f1"
  },
  "kernelspec": {
   "display_name": "Python 3.8.10 64-bit",
   "language": "python",
   "name": "python3"
  },
  "language_info": {
   "codemirror_mode": {
    "name": "ipython",
    "version": 3
   },
   "file_extension": ".py",
   "mimetype": "text/x-python",
   "name": "python",
   "nbconvert_exporter": "python",
   "pygments_lexer": "ipython3",
   "version": "3.7.9"
  },
  "orig_nbformat": 4
 },
 "nbformat": 4,
 "nbformat_minor": 2
}
